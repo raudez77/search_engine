{
 "cells": [
  {
   "cell_type": "code",
   "execution_count": 1,
   "metadata": {},
   "outputs": [],
   "source": [
    "# Main Libraries \n",
    "\n",
    "import matplotlib.pyplot as plt\n",
    "import sklearn\n",
    "import joblib\n",
    "from sklearn.preprocessing import StandardScaler, MinMaxScaler\n",
    "from feature_engine.encoding import OneHotEncoder\n",
    "import pandas \n",
    "import numpy \n",
    "import nltk\n",
    "import re\n",
    "%matplotlib inline"
   ]
  },
  {
   "cell_type": "markdown",
   "metadata": {
    "heading_collapsed": true
   },
   "source": [
    "##### Pre-processing part"
   ]
  },
  {
   "cell_type": "code",
   "execution_count": 2,
   "metadata": {
    "hidden": true
   },
   "outputs": [
    {
     "data": {
      "image/png": "[encoded data removed]",
      "text/plain": [
       "<Figure size 432x288 with 1 Axes>"
      ]
     },
     "metadata": {
      "needs_background": "light"
     },
     "output_type": "display_data"
    }
   ],
   "source": [
    "# Loading Data set\n",
    "DATA = r'..\\search_engines\\data_base\\bbc-news-data.csv'\n",
    "df = pandas.read_csv(DATA, sep = '\\t')\n",
    "df.category.value_counts().plot(kind='bar');"
   ]
  },
  {
   "cell_type": "markdown",
   "metadata": {},
   "source": [
    "##### Classes and functions\n",
    "\n",
    "- The Data frame only contains content and title.\n",
    "- I used bert to extract the top 3 phrases from each news.\n",
    "- I did this because I want to write another program to extract keywords from documents , send them to a data base \n",
    "re-train the model and follow thi cycle."
   ]
  },
  {
   "cell_type": "code",
   "execution_count": 2,
   "metadata": {
    "hidden": true
   },
   "outputs": [],
   "source": [
    "# Process keywords \n",
    "class extract_keywords_keybert (sklearn.base.BaseEstimator, \n",
    "                        sklearn.base.TransformerMixin):\n",
    "    \n",
    "    \"\"\"KeyBERT Must be imported, as dependence\"\"\"\n",
    "    \n",
    "    def __init__(self, variable:list, extractor ):\n",
    "        super().__init__()\n",
    "        \n",
    "        if not isinstance(variable, list):\n",
    "            raise ValueError (\"feature must be a list\")\n",
    "            \n",
    "        self.variable = variable\n",
    "        self.key_extractor = extractor\n",
    "        self.all_key_words = []\n",
    "            \n",
    "    def fit (self, X :pandas.DataFrame , y:pandas.Series = None):\n",
    "        return self \n",
    "    \n",
    "    def transform( self, X:pandas.DataFrame) -> pandas.DataFrame:\n",
    "        \n",
    "        def extracting_keywords (row:str) -> list:\n",
    "            \"\"\"Initiate tranformer , extract keywords into a list\"\"\"\n",
    "            \n",
    "            keywords_ = (self.key_extractor.extract_keywords(docs=row,\n",
    "                                                             keyphrase_ngram_range = (1,2),\n",
    "                                                             stop_words ='english',\n",
    "                                                             top_n = 3,\n",
    "                                                             use_mmr = True,\n",
    "                                                             diversity = .6))\n",
    "            \n",
    "            keywords_ = [word[0] for word in keywords_]\n",
    "            return keywords_\n",
    "            \n",
    "        \n",
    "        # create a copy \n",
    "        X = X.copy()\n",
    "        \n",
    "        for col in self.variable:\n",
    "            X[col+str(\"_t\")] = X[col].apply(lambda row : extracting_keywords(row))\n",
    "        \n",
    "        return X"
   ]
  },
  {
   "cell_type": "code",
   "execution_count": 21,
   "metadata": {
    "hidden": true
   },
   "outputs": [],
   "source": [
    "# Write a fuction for one hot enconding \n",
    "Categories = ['category']\n",
    "Title = ['title']\n",
    "Content = ['content']\n",
    "\n",
    "# Extract Keywords\n",
    "from keybert import KeyBERT\n",
    "kw_model = KeyBERT()\n",
    "\n",
    "# ----> Creating Pipelines \n",
    "Pipeline_ = sklearn.pipeline.Pipeline([\n",
    "    \n",
    "    # === OneHotEncoder ===\n",
    "    (\"OneHotEncoder\",\n",
    "      OneHotEncoder(variables=Categories)),\n",
    "    \n",
    "    # === Keywords Extraction ===\n",
    "    (\"keywords_title_extraction\",\n",
    "     extract_keywords_keybert(Title,kw_model)),\n",
    "    \n",
    "    (\"keywords_content_extraction\",\n",
    "     extract_keywords_keybert(Content,kw_model))\n",
    "])\n"
   ]
  },
  {
   "cell_type": "code",
   "execution_count": 6,
   "metadata": {
    "hidden": true
   },
   "outputs": [
    {
     "ename": "NameError",
     "evalue": "name 'Pipeline_' is not defined",
     "output_type": "error",
     "traceback": [
      "\u001b[1;31m---------------------------------------------------------------------------\u001b[0m",
      "\u001b[1;31mNameError\u001b[0m                                 Traceback (most recent call last)",
      "\u001b[1;32mc:\\Users\\mgarcia4\\Desktop\\Logitec-Search-Engine\\search_engine\\Jupyter_Notebooks\\Search Engines.ipynb Cell 7'\u001b[0m in \u001b[0;36m<cell line: 1>\u001b[1;34m()\u001b[0m\n\u001b[1;32m----> <a href='vscode-notebook-cell:/c%3A/Users/mgarcia4/Desktop/Logitec-Search-Engine/search_engine/Jupyter_Notebooks/Search%20Engines.ipynb#ch0000006?line=0'>1</a>\u001b[0m engine \u001b[39m=\u001b[39m Pipeline_\u001b[39m.\u001b[39mfit_transform(df)\n\u001b[0;32m      <a href='vscode-notebook-cell:/c%3A/Users/mgarcia4/Desktop/Logitec-Search-Engine/search_engine/Jupyter_Notebooks/Search%20Engines.ipynb#ch0000006?line=1'>2</a>\u001b[0m engine\u001b[39m.\u001b[39mhead(\u001b[39m5\u001b[39m)\n",
      "\u001b[1;31mNameError\u001b[0m: name 'Pipeline_' is not defined"
     ]
    }
   ],
   "source": [
    "engine = Pipeline_.fit_transform(df)\n",
    "engine.head(5)\n",
    "# engine.to_csv(\"anynameyouwant.csv\")"
   ]
  },
  {
   "cell_type": "markdown",
   "metadata": {
    "heading_collapsed": true
   },
   "source": [
    "##### Search Engines"
   ]
  },
  {
   "cell_type": "code",
   "execution_count": 2,
   "metadata": {
    "hidden": true
   },
   "outputs": [],
   "source": [
    "def extract_best_indices(m, topk, mask=None):\n",
    "    \"\"\"\n",
    "    Use sum of the cosine distance over all tokens.\n",
    "    m (np.array): cos matrix of shape (nb_in_tokens, nb_dict_tokens)\n",
    "    topk (int): number of indices to return (from high to lowest in order)\n",
    "    \"\"\"\n",
    "    # return the sum on all tokens of cosinus for each sentence\n",
    "    if len(m.shape) > 1:\n",
    "        cos_sim = numpy.mean(m, axis=0) \n",
    "    else: \n",
    "        cos_sim = m\n",
    "    index = numpy.argsort(cos_sim)[::-1] # from highest idx to smallest score \n",
    "    if mask is not None:\n",
    "        assert mask.shape == m.shape\n",
    "        mask = mask[index]\n",
    "    else:\n",
    "        mask = numpy.ones(len(cos_sim))\n",
    "    mask = numpy.logical_or(cos_sim[index] != 0, mask) #eliminate 0 cosine distance\n",
    "    best_index = index[mask][:topk]  \n",
    "    return best_index"
   ]
  },
  {
   "cell_type": "code",
   "execution_count": 5,
   "metadata": {
    "hidden": true
   },
   "outputs": [
    {
     "data": {
      "text/html": [
       "<div>\n",
       "<style scoped>\n",
       "    .dataframe tbody tr th:only-of-type {\n",
       "        vertical-align: middle;\n",
       "    }\n",
       "\n",
       "    .dataframe tbody tr th {\n",
       "        vertical-align: top;\n",
       "    }\n",
       "\n",
       "    .dataframe thead th {\n",
       "        text-align: right;\n",
       "    }\n",
       "</style>\n",
       "<table border=\"1\" class=\"dataframe\">\n",
       "  <thead>\n",
       "    <tr style=\"text-align: right;\">\n",
       "      <th></th>\n",
       "      <th>Unnamed: 0</th>\n",
       "      <th>filename</th>\n",
       "      <th>title</th>\n",
       "      <th>content</th>\n",
       "      <th>category_business</th>\n",
       "      <th>category_entertainment</th>\n",
       "      <th>category_politics</th>\n",
       "      <th>category_sport</th>\n",
       "      <th>category_tech</th>\n",
       "      <th>title_t</th>\n",
       "      <th>content_t</th>\n",
       "    </tr>\n",
       "  </thead>\n",
       "  <tbody>\n",
       "    <tr>\n",
       "      <th>2223</th>\n",
       "      <td>2223</td>\n",
       "      <td>400.txt</td>\n",
       "      <td>US cyber security chief resigns</td>\n",
       "      <td>The man making sure US computer networks are ...</td>\n",
       "      <td>0</td>\n",
       "      <td>0</td>\n",
       "      <td>0</td>\n",
       "      <td>0</td>\n",
       "      <td>1</td>\n",
       "      <td>['chief resigns', 'cyber security', 'security ...</td>\n",
       "      <td>['department cybersecurity', 'yoran took', 'ma...</td>\n",
       "    </tr>\n",
       "    <tr>\n",
       "      <th>2224</th>\n",
       "      <td>2224</td>\n",
       "      <td>401.txt</td>\n",
       "      <td>Losing yourself in online gaming</td>\n",
       "      <td>Online role playing games are time-consuming,...</td>\n",
       "      <td>0</td>\n",
       "      <td>0</td>\n",
       "      <td>0</td>\n",
       "      <td>0</td>\n",
       "      <td>1</td>\n",
       "      <td>['online gaming', 'losing', 'losing online']</td>\n",
       "      <td>['gaming addiction', 'huddersfield scare', 'on...</td>\n",
       "    </tr>\n",
       "  </tbody>\n",
       "</table>\n",
       "</div>"
      ],
      "text/plain": [
       "      Unnamed: 0 filename                             title  \\\n",
       "2223        2223  400.txt   US cyber security chief resigns   \n",
       "2224        2224  401.txt  Losing yourself in online gaming   \n",
       "\n",
       "                                                content  category_business  \\\n",
       "2223   The man making sure US computer networks are ...                  0   \n",
       "2224   Online role playing games are time-consuming,...                  0   \n",
       "\n",
       "      category_entertainment  category_politics  category_sport  \\\n",
       "2223                       0                  0               0   \n",
       "2224                       0                  0               0   \n",
       "\n",
       "      category_tech                                            title_t  \\\n",
       "2223              1  ['chief resigns', 'cyber security', 'security ...   \n",
       "2224              1       ['online gaming', 'losing', 'losing online']   \n",
       "\n",
       "                                              content_t  \n",
       "2223  ['department cybersecurity', 'yoran took', 'ma...  \n",
       "2224  ['gaming addiction', 'huddersfield scare', 'on...  "
      ]
     },
     "execution_count": 5,
     "metadata": {},
     "output_type": "execute_result"
    }
   ],
   "source": [
    "# 1 Connect to my Database (skip because it is in my data frame)\n",
    "NDATA = r'..\\search_engines\\data_base\\bbc-tokenized.csv'\n",
    "database = pandas.read_csv(NDATA, sep =',')\n",
    "database.tail(2)"
   ]
  },
  {
   "cell_type": "markdown",
   "metadata": {
    "heading_collapsed": true,
    "hidden": true
   },
   "source": [
    "##### Search by Keywords only\n",
    "\n",
    "- This is search engine is basically a filter it search the words that you provide and find the articles link to those keywords\n",
    "which means that it depends on how well the \"keywords\" describe the artical and also the number of keywords"
   ]
  },
  {
   "cell_type": "code",
   "execution_count": 6,
   "metadata": {
    "hidden": true
   },
   "outputs": [],
   "source": [
    "def search_bar(keywords:str,category:str) -> pandas.DataFrame:\n",
    "    \"\"\"filter based on differnet keywords and categories\n",
    "    Arg: \n",
    "        keywords: must be string \n",
    "        category: must be string (optional)\n",
    "        \n",
    "    Return:\n",
    "        DataFrame\"\"\"\n",
    "\n",
    "\n",
    "    # Connecting to Database    \n",
    "    tmp_filter = database\n",
    "\n",
    "\n",
    "    # limiting the Data by Frist Criteria and Kewords\n",
    "    both_keyword_category= [bool(keywords) == True, bool(category)==True]\n",
    "    only_keyword= [bool(keywords) == True, bool(category)==False]\n",
    "    only_category= [bool(keywords) == False, bool(category)==True]\n",
    "    all_keywords = r'\\b(?:{})\\b'.format('|'.join(map(re.escape, keywords.split(\" \"))))\n",
    "    cols_return = ['title','content','filename']\n",
    "    \n",
    "    if all(both_keyword_category):\n",
    "        tmp_criteria= [str('category_')+str(name) for name in category.split(\" \")]\n",
    "        tmp_filter =  tmp_filter[(tmp_filter[tmp_criteria]==1).any(axis=1)]\n",
    "        tmp_filter =  tmp_filter[tmp_filter.content_t.str.contains(all_keywords)]\n",
    "        return tmp_filter[cols_return] # type: ignore\n",
    "\n",
    "    elif all(only_keyword):\n",
    "        tmp_filter =  tmp_filter[tmp_filter.content_t.str.contains(all_keywords)]\n",
    "        return tmp_filter[cols_return] # type: ignore\n",
    "\n",
    "    elif all(only_category):\n",
    "        tmp_criteria= [str('category_')+str(name) for name in category.split(\" \")]\n",
    "        tmp_filter =  tmp_filter[(tmp_filter[tmp_criteria]==1).any(axis=1)]\n",
    "        return tmp_filter[cols_return]"
   ]
  },
  {
   "cell_type": "markdown",
   "metadata": {
    "heading_collapsed": true,
    "hidden": true
   },
   "source": [
    "#####  Searching by words frequency"
   ]
  },
  {
   "cell_type": "code",
   "execution_count": 103,
   "metadata": {
    "hidden": true
   },
   "outputs": [],
   "source": [
    "# Importing Stopwords \n",
    "Stop_words = set(nltk.corpus.stopwords.words('english'))\n",
    "min_words = 5\n",
    "max_words = 300\n",
    "\n",
    "def tokenizer_ (sentence:str,\n",
    "                stopwords=Stop_words,\n",
    "                lemmatize=True,\n",
    "                min_words:int = min_words ,\n",
    "                max_words:int = max_words):\n",
    "\n",
    "    \"\"\" Lemmatize, tokenize, and remove stop words\"\"\"\n",
    "    \n",
    "    if lemmatize:\n",
    "        # Initiate lemmatization\n",
    "        stemmer = nltk.stem.WordNetLemmatizer()\n",
    "        \n",
    "        # Initiate Tokenizer\n",
    "        tokens = [stemmer.lemmatize(word) for word in nltk.tokenize.word_tokenize(sentence)]\n",
    "    \n",
    "    else:\n",
    "        tokens = [ word for word in nltk.tokenize.word_tokenize(sentence)]\n",
    "\n",
    "        \n",
    "    token = [word for word in tokens if (len(word)>min_words) and (len(word)<max_words)and (word not in stopwords)]\n",
    "    \n",
    "    return token"
   ]
  },
  {
   "cell_type": "code",
   "execution_count": 104,
   "metadata": {
    "hidden": true
   },
   "outputs": [
    {
     "data": {
      "text/plain": [
       "(2225, 22668)"
      ]
     },
     "execution_count": 104,
     "metadata": {},
     "output_type": "execute_result"
    }
   ],
   "source": [
    "# Preprocessing corpus\n",
    "token_stop = tokenizer_(' '.join(Stop_words), lemmatize=False)\n",
    "\n",
    "Vec = (sklearn.feature_extraction.text.\n",
    "       TfidfVectorizer(stop_words = Stop_words,\n",
    "                       tokenizer=tokenizer_))\n",
    "\n",
    "Vec_matrix = Vec.fit_transform(database['content'].values)\n",
    "Vec_matrix.shape"
   ]
  },
  {
   "cell_type": "code",
   "execution_count": 105,
   "metadata": {
    "hidden": true
   },
   "outputs": [],
   "source": [
    "def search_bar_2 (sentence:str)-> pandas.DataFrame:\n",
    "    \"\"\"Return the data base sentences with cosine similarity\"\"\"\n",
    "    \n",
    "    # Transform sentences\n",
    "    tokens = [str(token) for token in tokenizer_(sentence)]\n",
    "    vector = Vec.transform(tokens)\n",
    "    \n",
    "    # Matric with similarity between query and databse\n",
    "    tmp_mat = sklearn.metrics.pairwise.cosine_similarity(vector,Vec_matrix)\n",
    "    \n",
    "    # Best cosine distance for each token \n",
    "    best_index = extract_best_indices(tmp_mat, topk=3)\n",
    "    \n",
    "    return database.iloc[best_index, 3]"
   ]
  },
  {
   "cell_type": "code",
   "execution_count": 112,
   "metadata": {
    "hidden": true
   },
   "outputs": [
    {
     "name": "stdout",
     "output_type": "stream",
     "text": [
      " UK Foreign Secretary Jack Straw has defended plans to end the European Union's arms embargo on China, despite opposition from the US and Japan.  Mr Straw, visiting Beijing, noted arms embargoes applied to China, Burma and Zimbabwe but not to North Korea, which he said had a terrible rights record. The EU imposed its arms ban on China in 1989 after troops opened fire on protestors in Tiananmen Square. Mr Straw also signed a deal on China-UK tourism. It is expected this would increase the number of Chinese tourists by 40,000 per year, providing $120m in revenue. China has in the past said it sees the weapons ban as politically driven, and does not want it lifted in order to buy more weapons. Mr Straw, speaking at a joint news conference with Chinese Foreign Minister Li Zhaoxing, stressed this point. \"The result of any decision [to lift the arms embargo] should not be an increase in arms exports from European Union member states to China, either in quantitative or qualitative terms,\" Mr Straw said. Earlier this week he said he expected the embargo to be lifted within six months.  But Mr Straw faces tough opposition to the move. Tory foreign affairs spokesman Michael Ancram said lifting the arms embargo would be \"irresponsible\" and would damage Britain's relations with the US. He said Mr Straw was \"naive beyond belief\" if he accepted China's claim it does not want the ban lifted in order to buy weapons. The French want the embargo lifted because they want to sell arms to China; the Chinese want it lifted because they want to buy arms and battlefield technology from Europe.\" When he was in Tokyo earlier this week, Japanese Foreign Minister Nobutaka Machimura told the British minister that his plan to remove the embargo was \" a worrying issue that concerns the security and environment of not only Japan, but also East Asia overall\". Washington argues that if the embargo is lifted, it could lead to a buying spree for arms that China could use to threaten its diplomatic rival Taiwan. Beijing says Taiwan is part of Chinese territory and wants to unite it with the mainland, by force if necessary. The US is bound by law to help Taiwan defend itself. Washington has also voiced concern that the human rights conditions in China have not improved enough to merit an end to the embargo. It is an issue raised by human rights groups too. Brad Adams, from the UK's Human Rights Watch, said: \"This is a huge political signal from Europe that they are willing to forget about Tiananmen Square.\" But Mr Straw insisted the EU's code of conduct on arms exports meant tough criteria on human rights still had to be met if the embargo was lifted. \n",
      "\n",
      "\n",
      " ----------------------- \n",
      "\n",
      " Eight out of 10 voters do not trust politicians to tell the truth, a new poll conducted for the BBC suggests.  And 87% of the 1,000 adults quizzed by ICM for BBC News 24 said politicians did not deliver what they promised. The poll comes after Foreign Secretary Jack Straw predicted trust would be \"the key choice\" at the next election. Both the Tories and the Lib Dems are keen to emphasise a perceived lack of trust in Tony Blair, following his claims over Iraqi weapons.  But according to the BBC poll, 61% said the issue of trust made no difference to whether or not they would vote at the next election, widely expected on 5 May. The poll also looked at what lay behind the lack of trust in politicians. Some 87% said politicians did not keep the promises they made before elections, while 92% said they never gave \"a straight answer\". Just under three-quarters of respondents (73%) said politicians had shown themselves to be dishonest too often.  Mr Straw told activists in Blackburn on Thursday that voters would have to decide at the next election which party \"best deserves\" their \"future trust\". \"That in the end is the key choice at the next election.\"  He acknowledged that the public had lost faith in Labour, but suggested it could persuade people to \"reinvest their trust with us\" if the party could overcome Tory attempts to spread cynicism in politics. The Conservatives are keen to highlight the trust issue. During his response to Gordon Brown's Budget statement on Tuesday, Michael Howard compared the chancellor's figures to the prime minister's claims about Iraq's weapons of mass destruction.  The Lib Dems are also keen to highlight the trust issue, with Charles Kennedy has claiming voters had a \"fundamental lack of trust in the prime minister\". And the Green Party unveiled a billboard opposite the Palace of Westminster accusing the government of lying over the Iraq war.  Former education secretary Estelle Morris told BBC News 24 that there was a \"real problem of trust\" between the public and the politicians. She said she did not feel her own colleagues could be trusted, but suggested the \"three-cornered relationship\" between the press, politicians and the public had a hand in the issue. The public was often turned off by sitting on the sidelines in \"the battle of words\" between the politician and the journalist, she added. Lib Dem foreign affairs spokesman Menzies Campbell said the Iraq war had hit trust in politicians hard. \"Issues of war and peace, life and death do have a very damaging effect on the credibility of politicians\". Martin Bell, who won the Tatton seat from Tory Neil Hamilton on anti-corruption platform, said politicians often failed to see themselves as others did. \"We need public figures we trust to tell the truth and who can see themselves as others see them.\" \n",
      "\n",
      "\n",
      " ----------------------- \n",
      "\n",
      " Billions of pounds spent on conflict in Iraq and in the Middle East should have been used to reduce poverty, Cardinal Cormac Murphy-O'Connor has said.  The head of the Catholic Church in England and Wales made the comments on BBC Radio 4 and will re-iterate his stance in his Christmas Midnight Mass. The cardinal used a Christmas message to denounce the war in Iraq as a \"terrible\" waste of money. He and the Archbishop of Canterbury have both spoken out about the war.  Speaking on BBC Radio 4's Thought for the Day slot, he criticised the fact that \"billions\" have been spent on war, instead of being used to bring people \"out of dire poverty and malnourishment and disease\". The cardinal said 2005 should be the year for campaigning to \"make history poverty\". He added: \"If the governments of the rich countries were as ready to devote to peace the resources they are willing to commit to war, that would be to see with new eyes and speak with a new voice and perhaps then others would listen to us with new ears.\" The cardinal will touch on this theme again on Friday night when he will tell the congregation of 2,000 at Westminster Cathedral that peace is \"worth, always, striving for\".  \"How is it that peace has not arrived?,\" the cardinal will ask. \"How is it that there is war in Iraq, violence in the Holy Land, and the horror of pain and death amongst the poor and deprived who suffer from injustice and thus do not find peace?\" \"How can one wish a happy Christmas for our fellow Christians in Iraq or in the Holy Land or those who suffer in Africa unless you and I, in whatever way is open to us, say and do what makes for peace?\" Both the Cardinal and Archbishop of Canterbury Dr Rowan Williams appealed for the weapons inspectors to be given more time in Iraq before the war started. Dr Williams has since criticised the government over its case for war, saying the failure to find weapons of mass destruction had damaged faith in the political system.  On Friday, the Cardinal will ask the congregation to search for peace. \"It is possible, it is real, it is worth, always, striving for, because of the promise of Our Saviour,\" he will say. \"I also wish you peace in your homes because peace in your home is the beginning of peace in the homes of the community. \" A spokesman said Downing Street had no comment to make. But Prime Minister Tony Blair has said he will put Africa at the top of the agenda when Britain chairs the G8 summit next year. \n",
      "\n",
      "\n",
      " ----------------------- \n",
      "\n"
     ]
    }
   ],
   "source": [
    "sentence = 'a new about weapons'\n",
    "result = search_bar_2 (sentence)\n",
    "\n",
    "for res in result:\n",
    "    print(res)\n",
    "    print()\n",
    "    print(\"\\n ----------------------- \\n\")"
   ]
  },
  {
   "cell_type": "markdown",
   "metadata": {
    "hidden": true
   },
   "source": [
    "#####  Searching by Meaning\n",
    "\n",
    "-Semantic search seeks to improve search accuracy by understanding the content of the search query. In contrast to traditional search engines which only find documents based on lexical matches, semantic search can also find synonyms"
   ]
  },
  {
   "cell_type": "code",
   "execution_count": 6,
   "metadata": {},
   "outputs": [],
   "source": [
    "from sentence_transformers import SentenceTransformer, util\n",
    "import tensorflow \n",
    "import torch"
   ]
  },
  {
   "cell_type": "code",
   "execution_count": 7,
   "metadata": {},
   "outputs": [],
   "source": [
    "# model = SentenceTransformer('all-MiniLM-L6-v2',device ='cpu')\n",
    "# model.save(r'C:\\Users\\mgarcia4\\Desktop\\Logitec-Search-Engine\\search_engine\\search_engines\\trained')"
   ]
  },
  {
   "cell_type": "code",
   "execution_count": 8,
   "metadata": {},
   "outputs": [],
   "source": [
    "# Process keywords \n",
    "class WordEmbedding_Transformer (sklearn.base.BaseEstimator, \n",
    "                        sklearn.base.TransformerMixin):\n",
    "    \n",
    "    \"\"\"download all-MiniLM-L6-v2\"\"\"\n",
    "    \n",
    "    def __init__(self,pre_train_model_path:str) :\n",
    "        super().__init__()\n",
    "    \n",
    "        self.pre_train_model_path = pre_train_model_path\n",
    "        self.model_ = SentenceTransformer(self.pre_train_model_path,device ='cpu')\n",
    "            \n",
    "    def fit (self, X :numpy.array , y:numpy.array = None):\n",
    "        return self \n",
    "    \n",
    "    def transform(self,X :numpy.array) -> tensorflow.Tensor:\n",
    "        X = self.model_.encode(X, convert_to_tensor = True)\n",
    "        return X\n",
    "\n",
    "class WordEmbedding_Comparing (sklearn.base.BaseEstimator, \n",
    "                            sklearn.base.TransformerMixin):\n",
    "    def __init__(self,corpus:str) :\n",
    "        super().__init__()\n",
    "        self.corpus = corpus\n",
    "\n",
    "    def fit(self,X:numpy.array, y:numpy.array = None):\n",
    "        return self\n",
    "    \n",
    "    def transform(self,X :numpy.array) -> tensorflow.Tensor:\n",
    "        cosine_score = util.pytorch_cos_sim(X,self.corpus)[0]\n",
    "        N_top_results = torch.topk(cosine_score, k=5)\n",
    "        return N_top_results\n",
    "\n",
    "class Top_Results (sklearn.base.BaseEstimator, \n",
    "                            sklearn.base.TransformerMixin):\n",
    "    def __init__(self) :\n",
    "        super().__init__()\n",
    "        self.top_n = []\n",
    "\n",
    "    def fit(self,X:numpy.array, y:numpy.array = None):\n",
    "        return self\n",
    "    \n",
    "    def transform(self,X :numpy.array):\n",
    "        for score, idx in zip(X[0], X[1]):\n",
    "            score = score.cpu().data.numpy() \n",
    "            idx = self.top_n .append(idx.cpu().data.numpy())\n",
    "            \n",
    "        return self.top_n\n"
   ]
  },
  {
   "cell_type": "code",
   "execution_count": 11,
   "metadata": {},
   "outputs": [],
   "source": [
    "# Enconding the Whole data Set\n",
    "path = r'C:\\Users\\mgarcia4\\Desktop\\Logitec-Search-Engine\\search_engine\\search_engines\\trained\\model'\n",
    "embedding_corpus = WordEmbedding_Transformer(path).fit_transform(database.content)"
   ]
  },
  {
   "cell_type": "code",
   "execution_count": 7,
   "metadata": {},
   "outputs": [
    {
     "ename": "ModuleNotFoundError",
     "evalue": "No module named 'search_engines'",
     "output_type": "error",
     "traceback": [
      "\u001b[1;31m---------------------------------------------------------------------------\u001b[0m",
      "\u001b[1;31mModuleNotFoundError\u001b[0m                       Traceback (most recent call last)",
      "\u001b[1;32mc:\\Users\\mgarcia4\\Desktop\\Logitec-Search-Engine\\search_engine\\Jupyter_Notebooks\\Search Engines.ipynb Cell 20'\u001b[0m in \u001b[0;36m<cell line: 3>\u001b[1;34m()\u001b[0m\n\u001b[0;32m      <a href='vscode-notebook-cell:/c%3A/Users/mgarcia4/Desktop/Logitec-Search-Engine/search_engine/Jupyter_Notebooks/Search%20Engines.ipynb#ch0000019?line=0'>1</a>\u001b[0m path \u001b[39m=\u001b[39m \u001b[39mr\u001b[39m\u001b[39m'\u001b[39m\u001b[39mC:\u001b[39m\u001b[39m\\\u001b[39m\u001b[39mUsers\u001b[39m\u001b[39m\\\u001b[39m\u001b[39mmgarcia4\u001b[39m\u001b[39m\\\u001b[39m\u001b[39mDesktop\u001b[39m\u001b[39m\\\u001b[39m\u001b[39mLogitec-Search-Engine\u001b[39m\u001b[39m\\\u001b[39m\u001b[39msearch_engine\u001b[39m\u001b[39m\\\u001b[39m\u001b[39msearch_engines\u001b[39m\u001b[39m\\\u001b[39m\u001b[39mtrained\u001b[39m\u001b[39m\\\u001b[39m\u001b[39mFIT_BBC_NEWS_2200_CORPUS_1.pkl\u001b[39m\u001b[39m'\u001b[39m\n\u001b[1;32m----> <a href='vscode-notebook-cell:/c%3A/Users/mgarcia4/Desktop/Logitec-Search-Engine/search_engine/Jupyter_Notebooks/Search%20Engines.ipynb#ch0000019?line=2'>3</a>\u001b[0m test \u001b[39m=\u001b[39m joblib\u001b[39m.\u001b[39;49mload(path)\n",
      "File \u001b[1;32mc:\\ProgramData\\Anaconda3\\lib\\site-packages\\joblib\\numpy_pickle.py:587\u001b[0m, in \u001b[0;36mload\u001b[1;34m(filename, mmap_mode)\u001b[0m\n\u001b[0;32m    581\u001b[0m             \u001b[39mif\u001b[39;00m \u001b[39misinstance\u001b[39m(fobj, \u001b[39mstr\u001b[39m):\n\u001b[0;32m    582\u001b[0m                 \u001b[39m# if the returned file object is a string, this means we\u001b[39;00m\n\u001b[0;32m    583\u001b[0m                 \u001b[39m# try to load a pickle file generated with an version of\u001b[39;00m\n\u001b[0;32m    584\u001b[0m                 \u001b[39m# Joblib so we load it with joblib compatibility function.\u001b[39;00m\n\u001b[0;32m    585\u001b[0m                 \u001b[39mreturn\u001b[39;00m load_compatibility(fobj)\n\u001b[1;32m--> 587\u001b[0m             obj \u001b[39m=\u001b[39m _unpickle(fobj, filename, mmap_mode)\n\u001b[0;32m    588\u001b[0m \u001b[39mreturn\u001b[39;00m obj\n",
      "File \u001b[1;32mc:\\ProgramData\\Anaconda3\\lib\\site-packages\\joblib\\numpy_pickle.py:506\u001b[0m, in \u001b[0;36m_unpickle\u001b[1;34m(fobj, filename, mmap_mode)\u001b[0m\n\u001b[0;32m    504\u001b[0m obj \u001b[39m=\u001b[39m \u001b[39mNone\u001b[39;00m\n\u001b[0;32m    505\u001b[0m \u001b[39mtry\u001b[39;00m:\n\u001b[1;32m--> 506\u001b[0m     obj \u001b[39m=\u001b[39m unpickler\u001b[39m.\u001b[39;49mload()\n\u001b[0;32m    507\u001b[0m     \u001b[39mif\u001b[39;00m unpickler\u001b[39m.\u001b[39mcompat_mode:\n\u001b[0;32m    508\u001b[0m         warnings\u001b[39m.\u001b[39mwarn(\u001b[39m\"\u001b[39m\u001b[39mThe file \u001b[39m\u001b[39m'\u001b[39m\u001b[39m%s\u001b[39;00m\u001b[39m'\u001b[39m\u001b[39m has been generated with a \u001b[39m\u001b[39m\"\u001b[39m\n\u001b[0;32m    509\u001b[0m                       \u001b[39m\"\u001b[39m\u001b[39mjoblib version less than 0.10. \u001b[39m\u001b[39m\"\u001b[39m\n\u001b[0;32m    510\u001b[0m                       \u001b[39m\"\u001b[39m\u001b[39mPlease regenerate this pickle file.\u001b[39m\u001b[39m\"\u001b[39m\n\u001b[0;32m    511\u001b[0m                       \u001b[39m%\u001b[39m filename,\n\u001b[0;32m    512\u001b[0m                       \u001b[39mDeprecationWarning\u001b[39;00m, stacklevel\u001b[39m=\u001b[39m\u001b[39m3\u001b[39m)\n",
      "File \u001b[1;32mc:\\ProgramData\\Anaconda3\\lib\\pickle.py:1212\u001b[0m, in \u001b[0;36m_Unpickler.load\u001b[1;34m(self)\u001b[0m\n\u001b[0;32m   1210\u001b[0m             \u001b[39mraise\u001b[39;00m \u001b[39mEOFError\u001b[39;00m\n\u001b[0;32m   1211\u001b[0m         \u001b[39massert\u001b[39;00m \u001b[39misinstance\u001b[39m(key, bytes_types)\n\u001b[1;32m-> 1212\u001b[0m         dispatch[key[\u001b[39m0\u001b[39;49m]](\u001b[39mself\u001b[39;49m)\n\u001b[0;32m   1213\u001b[0m \u001b[39mexcept\u001b[39;00m _Stop \u001b[39mas\u001b[39;00m stopinst:\n\u001b[0;32m   1214\u001b[0m     \u001b[39mreturn\u001b[39;00m stopinst\u001b[39m.\u001b[39mvalue\n",
      "File \u001b[1;32mc:\\ProgramData\\Anaconda3\\lib\\pickle.py:1528\u001b[0m, in \u001b[0;36m_Unpickler.load_global\u001b[1;34m(self)\u001b[0m\n\u001b[0;32m   1526\u001b[0m module \u001b[39m=\u001b[39m \u001b[39mself\u001b[39m\u001b[39m.\u001b[39mreadline()[:\u001b[39m-\u001b[39m\u001b[39m1\u001b[39m]\u001b[39m.\u001b[39mdecode(\u001b[39m\"\u001b[39m\u001b[39mutf-8\u001b[39m\u001b[39m\"\u001b[39m)\n\u001b[0;32m   1527\u001b[0m name \u001b[39m=\u001b[39m \u001b[39mself\u001b[39m\u001b[39m.\u001b[39mreadline()[:\u001b[39m-\u001b[39m\u001b[39m1\u001b[39m]\u001b[39m.\u001b[39mdecode(\u001b[39m\"\u001b[39m\u001b[39mutf-8\u001b[39m\u001b[39m\"\u001b[39m)\n\u001b[1;32m-> 1528\u001b[0m klass \u001b[39m=\u001b[39m \u001b[39mself\u001b[39;49m\u001b[39m.\u001b[39;49mfind_class(module, name)\n\u001b[0;32m   1529\u001b[0m \u001b[39mself\u001b[39m\u001b[39m.\u001b[39mappend(klass)\n",
      "File \u001b[1;32mc:\\ProgramData\\Anaconda3\\lib\\pickle.py:1579\u001b[0m, in \u001b[0;36m_Unpickler.find_class\u001b[1;34m(self, module, name)\u001b[0m\n\u001b[0;32m   1577\u001b[0m     \u001b[39melif\u001b[39;00m module \u001b[39min\u001b[39;00m _compat_pickle\u001b[39m.\u001b[39mIMPORT_MAPPING:\n\u001b[0;32m   1578\u001b[0m         module \u001b[39m=\u001b[39m _compat_pickle\u001b[39m.\u001b[39mIMPORT_MAPPING[module]\n\u001b[1;32m-> 1579\u001b[0m \u001b[39m__import__\u001b[39;49m(module, level\u001b[39m=\u001b[39;49m\u001b[39m0\u001b[39;49m)\n\u001b[0;32m   1580\u001b[0m \u001b[39mif\u001b[39;00m \u001b[39mself\u001b[39m\u001b[39m.\u001b[39mproto \u001b[39m>\u001b[39m\u001b[39m=\u001b[39m \u001b[39m4\u001b[39m:\n\u001b[0;32m   1581\u001b[0m     \u001b[39mreturn\u001b[39;00m _getattribute(sys\u001b[39m.\u001b[39mmodules[module], name)[\u001b[39m0\u001b[39m]\n",
      "\u001b[1;31mModuleNotFoundError\u001b[0m: No module named 'search_engines'"
     ]
    }
   ],
   "source": [
    "path = r'C:\\Users\\mgarcia4\\Desktop\\Logitec-Search-Engine\\search_engine\\search_engines\\trained\\FIT_BBC_NEWS_2200_CORPUS_1.pkl'\n",
    "\n",
    "test = joblib.load(path)\n"
   ]
  },
  {
   "cell_type": "code",
   "execution_count": 12,
   "metadata": {},
   "outputs": [],
   "source": [
    "Pipeline_2 = sklearn.pipeline.Pipeline([\n",
    "    # === Transforming ===\n",
    "    (\"Emebdding Query\",\n",
    "     WordEmbedding_Transformer(path)),\n",
    "\n",
    "    (\"Comparing\",\n",
    "     WordEmbedding_Comparing(embedding_corpus)),\n",
    "\n",
    "    (\"Top_N\",\n",
    "    Top_Results())\n",
    "])"
   ]
  },
  {
   "cell_type": "code",
   "execution_count": 13,
   "metadata": {},
   "outputs": [],
   "source": [
    "def search_by_meaning(indexes):\n",
    "    return database.iloc[indexes][['title','content']] # type: ignore"
   ]
  },
  {
   "cell_type": "code",
   "execution_count": 14,
   "metadata": {},
   "outputs": [
    {
     "data": {
      "text/html": [
       "<div>\n",
       "<style scoped>\n",
       "    .dataframe tbody tr th:only-of-type {\n",
       "        vertical-align: middle;\n",
       "    }\n",
       "\n",
       "    .dataframe tbody tr th {\n",
       "        vertical-align: top;\n",
       "    }\n",
       "\n",
       "    .dataframe thead th {\n",
       "        text-align: right;\n",
       "    }\n",
       "</style>\n",
       "<table border=\"1\" class=\"dataframe\">\n",
       "  <thead>\n",
       "    <tr style=\"text-align: right;\">\n",
       "      <th></th>\n",
       "      <th>title</th>\n",
       "      <th>content</th>\n",
       "    </tr>\n",
       "  </thead>\n",
       "  <tbody>\n",
       "    <tr>\n",
       "      <th>15</th>\n",
       "      <td>China keeps tight rein on credit</td>\n",
       "      <td>China's efforts to stop the economy from over...</td>\n",
       "    </tr>\n",
       "    <tr>\n",
       "      <th>1897</th>\n",
       "      <td>China 'to overtake US net use'</td>\n",
       "      <td>The Chinese net-using population looks set to...</td>\n",
       "    </tr>\n",
       "    <tr>\n",
       "      <th>2207</th>\n",
       "      <td>China 'ripe' for media explosion</td>\n",
       "      <td>Asia is set to drive global media growth to 2...</td>\n",
       "    </tr>\n",
       "    <tr>\n",
       "      <th>497</th>\n",
       "      <td>Millions go missing at China bank</td>\n",
       "      <td>Two senior officials at one of China's top co...</td>\n",
       "    </tr>\n",
       "    <tr>\n",
       "      <th>471</th>\n",
       "      <td>China suspends 26 power projects</td>\n",
       "      <td>China has ordered a halt to construction work...</td>\n",
       "    </tr>\n",
       "  </tbody>\n",
       "</table>\n",
       "</div>"
      ],
      "text/plain": [
       "                                  title  \\\n",
       "15     China keeps tight rein on credit   \n",
       "1897     China 'to overtake US net use'   \n",
       "2207   China 'ripe' for media explosion   \n",
       "497   Millions go missing at China bank   \n",
       "471    China suspends 26 power projects   \n",
       "\n",
       "                                                content  \n",
       "15     China's efforts to stop the economy from over...  \n",
       "1897   The Chinese net-using population looks set to...  \n",
       "2207   Asia is set to drive global media growth to 2...  \n",
       "497    Two senior officials at one of China's top co...  \n",
       "471    China has ordered a halt to construction work...  "
      ]
     },
     "execution_count": 14,
     "metadata": {},
     "output_type": "execute_result"
    }
   ],
   "source": [
    "result = Pipeline_2.fit_transform(\"china has many problems\")\n",
    "search_by_meaning(result)"
   ]
  }
 ],
 "metadata": {
  "kernelspec": {
   "display_name": "Python 3.9.12 ('base')",
   "language": "python",
   "name": "python3"
  },
  "language_info": {
   "codemirror_mode": {
    "name": "ipython",
    "version": 3
   },
   "file_extension": ".py",
   "mimetype": "text/x-python",
   "name": "python",
   "nbconvert_exporter": "python",
   "pygments_lexer": "ipython3",
   "version": "3.9.12"
  },
  "varInspector": {
   "cols": {
    "lenName": 16,
    "lenType": 16,
    "lenVar": 40
   },
   "kernels_config": {
    "python": {
     "delete_cmd_postfix": "",
     "delete_cmd_prefix": "del ",
     "library": "var_list.py",
     "varRefreshCmd": "print(var_dic_list())"
    },
    "r": {
     "delete_cmd_postfix": ") ",
     "delete_cmd_prefix": "rm(",
     "library": "var_list.r",
     "varRefreshCmd": "cat(var_dic_list()) "
    }
   },
   "types_to_exclude": [
    "module",
    "function",
    "builtin_function_or_method",
    "instance",
    "_Feature"
   ],
   "window_display": false
  },
  "vscode": {
   "interpreter": {
    "hash": "ad2bdc8ecc057115af97d19610ffacc2b4e99fae6737bb82f5d7fb13d2f2c186"
   }
  }
 },
 "nbformat": 4,
 "nbformat_minor": 2
}
