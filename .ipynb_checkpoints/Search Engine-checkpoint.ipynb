{
 "cells": [
  {
   "cell_type": "code",
   "execution_count": 1,
   "metadata": {},
   "outputs": [],
   "source": [
    "# Load data set \n",
    "# fin the keywords \n",
    "# Create the website\n",
    "# Create the engine motor "
   ]
  },
  {
   "cell_type": "code",
   "execution_count": 2,
   "metadata": {},
   "outputs": [],
   "source": [
    "import matplotlib.pyplot as plt\n",
    "from feature_engine.encoding import OneHotEncoder\n",
    "import sklearn\n",
    "import pandas \n",
    "import numpy \n",
    "import nltk\n",
    "import re\n",
    "%matplotlib inline"
   ]
  },
  {
   "cell_type": "markdown",
   "metadata": {
    "heading_collapsed": true
   },
   "source": [
    "#### Pre-processing part"
   ]
  },
  {
   "cell_type": "code",
   "execution_count": 5,
   "metadata": {
    "hidden": true
   },
   "outputs": [
    {
     "data": {
      "image/png": "[encoded data removed]",
      "text/plain": [
       "<Figure size 432x288 with 1 Axes>"
      ]
     },
     "metadata": {
      "needs_background": "light"
     },
     "output_type": "display_data"
    }
   ],
   "source": [
    "# Loading Data set\n",
    "DATA = r'..\\search_engines\\data_base\\bbc-news-data.csv'\n",
    "df = pandas.read_csv(DATA, sep = '\\t')\n",
    "df.category.value_counts().plot(kind='bar');"
   ]
  },
  {
   "cell_type": "code",
   "execution_count": 6,
   "metadata": {
    "hidden": true
   },
   "outputs": [
    {
     "data": {
      "text/html": [
       "<div>\n",
       "<style scoped>\n",
       "    .dataframe tbody tr th:only-of-type {\n",
       "        vertical-align: middle;\n",
       "    }\n",
       "\n",
       "    .dataframe tbody tr th {\n",
       "        vertical-align: top;\n",
       "    }\n",
       "\n",
       "    .dataframe thead th {\n",
       "        text-align: right;\n",
       "    }\n",
       "</style>\n",
       "<table border=\"1\" class=\"dataframe\">\n",
       "  <thead>\n",
       "    <tr style=\"text-align: right;\">\n",
       "      <th></th>\n",
       "      <th>category</th>\n",
       "      <th>filename</th>\n",
       "      <th>title</th>\n",
       "      <th>content</th>\n",
       "    </tr>\n",
       "  </thead>\n",
       "  <tbody>\n",
       "    <tr>\n",
       "      <th>896</th>\n",
       "      <td>politics</td>\n",
       "      <td>001.txt</td>\n",
       "      <td>Labour plans maternity pay rise</td>\n",
       "      <td>Maternity pay for new mothers is to rise by £...</td>\n",
       "    </tr>\n",
       "    <tr>\n",
       "      <th>897</th>\n",
       "      <td>politics</td>\n",
       "      <td>002.txt</td>\n",
       "      <td>Watchdog probes e-mail deletions</td>\n",
       "      <td>The information commissioner says he is urgen...</td>\n",
       "    </tr>\n",
       "    <tr>\n",
       "      <th>898</th>\n",
       "      <td>politics</td>\n",
       "      <td>003.txt</td>\n",
       "      <td>Hewitt decries 'career sexism'</td>\n",
       "      <td>Plans to extend paid maternity leave beyond s...</td>\n",
       "    </tr>\n",
       "    <tr>\n",
       "      <th>899</th>\n",
       "      <td>politics</td>\n",
       "      <td>004.txt</td>\n",
       "      <td>Labour chooses Manchester</td>\n",
       "      <td>The Labour Party will hold its 2006 autumn co...</td>\n",
       "    </tr>\n",
       "    <tr>\n",
       "      <th>900</th>\n",
       "      <td>politics</td>\n",
       "      <td>005.txt</td>\n",
       "      <td>Brown ally rejects Budget spree</td>\n",
       "      <td>Chancellor Gordon Brown's closest ally has de...</td>\n",
       "    </tr>\n",
       "    <tr>\n",
       "      <th>...</th>\n",
       "      <td>...</td>\n",
       "      <td>...</td>\n",
       "      <td>...</td>\n",
       "      <td>...</td>\n",
       "    </tr>\n",
       "    <tr>\n",
       "      <th>1308</th>\n",
       "      <td>politics</td>\n",
       "      <td>413.txt</td>\n",
       "      <td>Sainsbury's Labour election gift</td>\n",
       "      <td>Science Minister Lord Sainsbury has made a £2...</td>\n",
       "    </tr>\n",
       "    <tr>\n",
       "      <th>1309</th>\n",
       "      <td>politics</td>\n",
       "      <td>414.txt</td>\n",
       "      <td>Blair 'up for it' ahead of poll</td>\n",
       "      <td>Tony Blair says his personal standing in the ...</td>\n",
       "    </tr>\n",
       "    <tr>\n",
       "      <th>1310</th>\n",
       "      <td>politics</td>\n",
       "      <td>415.txt</td>\n",
       "      <td>Labour MP praises Tory campaign</td>\n",
       "      <td>The Conservatives have been \"a lot smarter\" i...</td>\n",
       "    </tr>\n",
       "    <tr>\n",
       "      <th>1311</th>\n",
       "      <td>politics</td>\n",
       "      <td>416.txt</td>\n",
       "      <td>Top Tories on Lib Dem 'hit list'</td>\n",
       "      <td>The Liberal Democrats are aiming to unseat a ...</td>\n",
       "    </tr>\n",
       "    <tr>\n",
       "      <th>1312</th>\n",
       "      <td>politics</td>\n",
       "      <td>417.txt</td>\n",
       "      <td>Lib Dems unveil election slogan</td>\n",
       "      <td>The Liberal Democrats will present themselves...</td>\n",
       "    </tr>\n",
       "  </tbody>\n",
       "</table>\n",
       "<p>417 rows × 4 columns</p>\n",
       "</div>"
      ],
      "text/plain": [
       "      category filename                             title  \\\n",
       "896   politics  001.txt   Labour plans maternity pay rise   \n",
       "897   politics  002.txt  Watchdog probes e-mail deletions   \n",
       "898   politics  003.txt    Hewitt decries 'career sexism'   \n",
       "899   politics  004.txt         Labour chooses Manchester   \n",
       "900   politics  005.txt   Brown ally rejects Budget spree   \n",
       "...        ...      ...                               ...   \n",
       "1308  politics  413.txt  Sainsbury's Labour election gift   \n",
       "1309  politics  414.txt   Blair 'up for it' ahead of poll   \n",
       "1310  politics  415.txt   Labour MP praises Tory campaign   \n",
       "1311  politics  416.txt  Top Tories on Lib Dem 'hit list'   \n",
       "1312  politics  417.txt   Lib Dems unveil election slogan   \n",
       "\n",
       "                                                content  \n",
       "896    Maternity pay for new mothers is to rise by £...  \n",
       "897    The information commissioner says he is urgen...  \n",
       "898    Plans to extend paid maternity leave beyond s...  \n",
       "899    The Labour Party will hold its 2006 autumn co...  \n",
       "900    Chancellor Gordon Brown's closest ally has de...  \n",
       "...                                                 ...  \n",
       "1308   Science Minister Lord Sainsbury has made a £2...  \n",
       "1309   Tony Blair says his personal standing in the ...  \n",
       "1310   The Conservatives have been \"a lot smarter\" i...  \n",
       "1311   The Liberal Democrats are aiming to unseat a ...  \n",
       "1312   The Liberal Democrats will present themselves...  \n",
       "\n",
       "[417 rows x 4 columns]"
      ]
     },
     "execution_count": 6,
     "metadata": {},
     "output_type": "execute_result"
    }
   ],
   "source": [
    "df[df.category == 'politics']"
   ]
  },
  {
   "cell_type": "code",
   "execution_count": 18,
   "metadata": {
    "hidden": true
   },
   "outputs": [],
   "source": [
    "# Process keywords \n",
    "class extract_keywords_keybert (sklearn.base.BaseEstimator, \n",
    "                        sklearn.base.TransformerMixin):\n",
    "    \n",
    "    \"\"\"KeyBERT Must be imported, as dependence\"\"\"\n",
    "    \n",
    "    def __init__(self, variable:list, extractor ):\n",
    "        super().__init__()\n",
    "        \n",
    "        if not isinstance(variable, list):\n",
    "            raise ValueError (\"feature must be a list\")\n",
    "            \n",
    "        self.variable = variable\n",
    "        self.key_extractor = extractor\n",
    "        self.all_key_words = []\n",
    "            \n",
    "    def fit (self, X :pandas.DataFrame , y:pandas.Series = None):\n",
    "        return self \n",
    "    \n",
    "    def transform( self, X:pandas.DataFrame) -> pandas.DataFrame:\n",
    "        \n",
    "        def extracting_keywords (row:str) -> list:\n",
    "            \"\"\"Initiate tranformer , extract keywords into a list\"\"\"\n",
    "            \n",
    "            keywords_ = (self.key_extractor.extract_keywords(docs=row,\n",
    "                                                             keyphrase_ngram_range = (1,2),\n",
    "                                                             stop_words ='english',\n",
    "                                                             top_n = 3,\n",
    "                                                             use_mmr = True,\n",
    "                                                             diversity = .6))\n",
    "            \n",
    "            keywords_ = [word[0] for word in keywords_]\n",
    "            return keywords_\n",
    "            \n",
    "        \n",
    "        # create a copy \n",
    "        X = X.copy()\n",
    "        \n",
    "        for col in self.variable:\n",
    "            X[col+str(\"_t\")] = X[col].apply(lambda row : extracting_keywords(row))\n",
    "        \n",
    "        return X"
   ]
  },
  {
   "cell_type": "code",
   "execution_count": 21,
   "metadata": {
    "hidden": true
   },
   "outputs": [],
   "source": [
    "# Write a fuction for one hot enconding \n",
    "Categories = ['category']\n",
    "Title = ['title']\n",
    "Content = ['content']\n",
    "\n",
    "# Extract Keywords\n",
    "from keybert import KeyBERT\n",
    "kw_model = KeyBERT()\n",
    "\n",
    "# ----> Creating Pipelines \n",
    "Pipeline_ = sklearn.pipeline.Pipeline([\n",
    "    \n",
    "    # === OneHotEncoder ===\n",
    "    (\"OneHotEncoder\",\n",
    "      OneHotEncoder(variables=Categories)),\n",
    "    \n",
    "    # === Keywords Extraction ===\n",
    "    (\"keywords_title_extraction\",\n",
    "     extract_keywords_keybert(Title,kw_model)),\n",
    "    \n",
    "    (\"keywords_content_extraction\",\n",
    "     extract_keywords_keybert(Content,kw_model))\n",
    "])\n"
   ]
  },
  {
   "cell_type": "code",
   "execution_count": 22,
   "metadata": {
    "hidden": true
   },
   "outputs": [
    {
     "data": {
      "text/html": [
       "<div>\n",
       "<style scoped>\n",
       "    .dataframe tbody tr th:only-of-type {\n",
       "        vertical-align: middle;\n",
       "    }\n",
       "\n",
       "    .dataframe tbody tr th {\n",
       "        vertical-align: top;\n",
       "    }\n",
       "\n",
       "    .dataframe thead th {\n",
       "        text-align: right;\n",
       "    }\n",
       "</style>\n",
       "<table border=\"1\" class=\"dataframe\">\n",
       "  <thead>\n",
       "    <tr style=\"text-align: right;\">\n",
       "      <th></th>\n",
       "      <th>filename</th>\n",
       "      <th>title</th>\n",
       "      <th>content</th>\n",
       "      <th>category_business</th>\n",
       "      <th>category_entertainment</th>\n",
       "      <th>category_politics</th>\n",
       "      <th>category_sport</th>\n",
       "      <th>category_tech</th>\n",
       "      <th>title_t</th>\n",
       "      <th>content_t</th>\n",
       "    </tr>\n",
       "  </thead>\n",
       "  <tbody>\n",
       "    <tr>\n",
       "      <th>0</th>\n",
       "      <td>001.txt</td>\n",
       "      <td>Ad sales boost Time Warner profit</td>\n",
       "      <td>Quarterly profits at US media giant TimeWarne...</td>\n",
       "      <td>1</td>\n",
       "      <td>0</td>\n",
       "      <td>0</td>\n",
       "      <td>0</td>\n",
       "      <td>0</td>\n",
       "      <td>[warner profit, boost time, ad sales]</td>\n",
       "      <td>[aol market, timewarner said, 9bn profits]</td>\n",
       "    </tr>\n",
       "    <tr>\n",
       "      <th>1</th>\n",
       "      <td>002.txt</td>\n",
       "      <td>Dollar gains on Greenspan speech</td>\n",
       "      <td>The dollar has hit its highest level against ...</td>\n",
       "      <td>1</td>\n",
       "      <td>0</td>\n",
       "      <td>0</td>\n",
       "      <td>0</td>\n",
       "      <td>0</td>\n",
       "      <td>[gains greenspan, dollar, speech]</td>\n",
       "      <td>[china currency, deficit concerns, mr greenspan]</td>\n",
       "    </tr>\n",
       "    <tr>\n",
       "      <th>2</th>\n",
       "      <td>003.txt</td>\n",
       "      <td>Yukos unit buyer faces loan claim</td>\n",
       "      <td>The owners of embattled Russian oil giant Yuk...</td>\n",
       "      <td>1</td>\n",
       "      <td>0</td>\n",
       "      <td>0</td>\n",
       "      <td>0</td>\n",
       "      <td>0</td>\n",
       "      <td>[loan claim, yukos unit, buyer faces]</td>\n",
       "      <td>[rosneft repay, yugansk assets, law exists]</td>\n",
       "    </tr>\n",
       "    <tr>\n",
       "      <th>3</th>\n",
       "      <td>004.txt</td>\n",
       "      <td>High fuel prices hit BA's profits</td>\n",
       "      <td>British Airways has blamed high fuel prices f...</td>\n",
       "      <td>1</td>\n",
       "      <td>0</td>\n",
       "      <td>0</td>\n",
       "      <td>0</td>\n",
       "      <td>0</td>\n",
       "      <td>[ba profits, fuel prices, high]</td>\n",
       "      <td>[fuel surcharges, ba year, price aviation]</td>\n",
       "    </tr>\n",
       "    <tr>\n",
       "      <th>4</th>\n",
       "      <td>005.txt</td>\n",
       "      <td>Pernod takeover talk lifts Domecq</td>\n",
       "      <td>Shares in UK drinks and food firm Allied Dome...</td>\n",
       "      <td>1</td>\n",
       "      <td>0</td>\n",
       "      <td>0</td>\n",
       "      <td>0</td>\n",
       "      <td>0</td>\n",
       "      <td>[pernod takeover, lifts domecq, talk]</td>\n",
       "      <td>[pernod shares, uk drinks, seagram purchase]</td>\n",
       "    </tr>\n",
       "  </tbody>\n",
       "</table>\n",
       "</div>"
      ],
      "text/plain": [
       "  filename                              title  \\\n",
       "0  001.txt  Ad sales boost Time Warner profit   \n",
       "1  002.txt   Dollar gains on Greenspan speech   \n",
       "2  003.txt  Yukos unit buyer faces loan claim   \n",
       "3  004.txt  High fuel prices hit BA's profits   \n",
       "4  005.txt  Pernod takeover talk lifts Domecq   \n",
       "\n",
       "                                             content  category_business  \\\n",
       "0   Quarterly profits at US media giant TimeWarne...                  1   \n",
       "1   The dollar has hit its highest level against ...                  1   \n",
       "2   The owners of embattled Russian oil giant Yuk...                  1   \n",
       "3   British Airways has blamed high fuel prices f...                  1   \n",
       "4   Shares in UK drinks and food firm Allied Dome...                  1   \n",
       "\n",
       "   category_entertainment  category_politics  category_sport  category_tech  \\\n",
       "0                       0                  0               0              0   \n",
       "1                       0                  0               0              0   \n",
       "2                       0                  0               0              0   \n",
       "3                       0                  0               0              0   \n",
       "4                       0                  0               0              0   \n",
       "\n",
       "                                 title_t  \\\n",
       "0  [warner profit, boost time, ad sales]   \n",
       "1      [gains greenspan, dollar, speech]   \n",
       "2  [loan claim, yukos unit, buyer faces]   \n",
       "3        [ba profits, fuel prices, high]   \n",
       "4  [pernod takeover, lifts domecq, talk]   \n",
       "\n",
       "                                          content_t  \n",
       "0        [aol market, timewarner said, 9bn profits]  \n",
       "1  [china currency, deficit concerns, mr greenspan]  \n",
       "2       [rosneft repay, yugansk assets, law exists]  \n",
       "3        [fuel surcharges, ba year, price aviation]  \n",
       "4      [pernod shares, uk drinks, seagram purchase]  "
      ]
     },
     "execution_count": 22,
     "metadata": {},
     "output_type": "execute_result"
    }
   ],
   "source": [
    "engine = Pipeline_.fit_transform(df)\n",
    "engine.head(5)"
   ]
  },
  {
   "cell_type": "markdown",
   "metadata": {
    "heading_collapsed": true
   },
   "source": [
    "#### Search Engines"
   ]
  },
  {
   "cell_type": "code",
   "execution_count": 21,
   "metadata": {
    "hidden": true
   },
   "outputs": [],
   "source": [
    "def extract_best_indices(m, topk, mask=None):\n",
    "    \"\"\"\n",
    "    Use sum of the cosine distance over all tokens.\n",
    "    m (np.array): cos matrix of shape (nb_in_tokens, nb_dict_tokens)\n",
    "    topk (int): number of indices to return (from high to lowest in order)\n",
    "    \"\"\"\n",
    "    # return the sum on all tokens of cosinus for each sentence\n",
    "    if len(m.shape) > 1:\n",
    "        cos_sim = numpy.mean(m, axis=0) \n",
    "    else: \n",
    "        cos_sim = m\n",
    "    index = numpy.argsort(cos_sim)[::-1] # from highest idx to smallest score \n",
    "    if mask is not None:\n",
    "        assert mask.shape == m.shape\n",
    "        mask = mask[index]\n",
    "    else:\n",
    "        mask = numpy.ones(len(cos_sim))\n",
    "    mask = numpy.logical_or(cos_sim[index] != 0, mask) #eliminate 0 cosine distance\n",
    "    best_index = index[mask][:topk]  \n",
    "    return best_index"
   ]
  },
  {
   "cell_type": "code",
   "execution_count": 7,
   "metadata": {
    "hidden": true
   },
   "outputs": [
    {
     "data": {
      "text/html": [
       "<div>\n",
       "<style scoped>\n",
       "    .dataframe tbody tr th:only-of-type {\n",
       "        vertical-align: middle;\n",
       "    }\n",
       "\n",
       "    .dataframe tbody tr th {\n",
       "        vertical-align: top;\n",
       "    }\n",
       "\n",
       "    .dataframe thead th {\n",
       "        text-align: right;\n",
       "    }\n",
       "</style>\n",
       "<table border=\"1\" class=\"dataframe\">\n",
       "  <thead>\n",
       "    <tr style=\"text-align: right;\">\n",
       "      <th></th>\n",
       "      <th>Unnamed: 0</th>\n",
       "      <th>filename</th>\n",
       "      <th>title</th>\n",
       "      <th>content</th>\n",
       "      <th>category_business</th>\n",
       "      <th>category_entertainment</th>\n",
       "      <th>category_politics</th>\n",
       "      <th>category_sport</th>\n",
       "      <th>category_tech</th>\n",
       "      <th>title_t</th>\n",
       "      <th>content_t</th>\n",
       "    </tr>\n",
       "  </thead>\n",
       "  <tbody>\n",
       "    <tr>\n",
       "      <th>2223</th>\n",
       "      <td>2223</td>\n",
       "      <td>400.txt</td>\n",
       "      <td>US cyber security chief resigns</td>\n",
       "      <td>The man making sure US computer networks are ...</td>\n",
       "      <td>0</td>\n",
       "      <td>0</td>\n",
       "      <td>0</td>\n",
       "      <td>0</td>\n",
       "      <td>1</td>\n",
       "      <td>['chief resigns', 'cyber security', 'security ...</td>\n",
       "      <td>['department cybersecurity', 'yoran took', 'ma...</td>\n",
       "    </tr>\n",
       "    <tr>\n",
       "      <th>2224</th>\n",
       "      <td>2224</td>\n",
       "      <td>401.txt</td>\n",
       "      <td>Losing yourself in online gaming</td>\n",
       "      <td>Online role playing games are time-consuming,...</td>\n",
       "      <td>0</td>\n",
       "      <td>0</td>\n",
       "      <td>0</td>\n",
       "      <td>0</td>\n",
       "      <td>1</td>\n",
       "      <td>['online gaming', 'losing', 'losing online']</td>\n",
       "      <td>['gaming addiction', 'huddersfield scare', 'on...</td>\n",
       "    </tr>\n",
       "  </tbody>\n",
       "</table>\n",
       "</div>"
      ],
      "text/plain": [
       "      Unnamed: 0 filename                             title  \\\n",
       "2223        2223  400.txt   US cyber security chief resigns   \n",
       "2224        2224  401.txt  Losing yourself in online gaming   \n",
       "\n",
       "                                                content  category_business  \\\n",
       "2223   The man making sure US computer networks are ...                  0   \n",
       "2224   Online role playing games are time-consuming,...                  0   \n",
       "\n",
       "      category_entertainment  category_politics  category_sport  \\\n",
       "2223                       0                  0               0   \n",
       "2224                       0                  0               0   \n",
       "\n",
       "      category_tech                                            title_t  \\\n",
       "2223              1  ['chief resigns', 'cyber security', 'security ...   \n",
       "2224              1       ['online gaming', 'losing', 'losing online']   \n",
       "\n",
       "                                              content_t  \n",
       "2223  ['department cybersecurity', 'yoran took', 'ma...  \n",
       "2224  ['gaming addiction', 'huddersfield scare', 'on...  "
      ]
     },
     "execution_count": 7,
     "metadata": {},
     "output_type": "execute_result"
    }
   ],
   "source": [
    "# 1 Connect to my Database (skip because it is in my data frame)\n",
    "NDATA = r'..\\search_engines\\data_base\\bbc-tokenized.csv'\n",
    "database = pandas.read_csv(NDATA, sep =',')\n",
    "database.tail(2)"
   ]
  },
  {
   "cell_type": "markdown",
   "metadata": {
    "heading_collapsed": true,
    "hidden": true
   },
   "source": [
    "###### Search by Keywords only"
   ]
  },
  {
   "cell_type": "code",
   "execution_count": 27,
   "metadata": {
    "hidden": true
   },
   "outputs": [],
   "source": [
    "def search_bar(keywords:list,category:list) -> pandas.DataFrame:\n",
    "    \"\"\"filter based on differnet keywords\"\"\"\n",
    "    \n",
    "    if not isinstance(keywords, list):\n",
    "        raise ValueError (\"Keyword must be a list\")\n",
    "\n",
    "    Category = [category]\n",
    "   \n",
    "    # Connecting to Database    \n",
    "    tmp_filter = database\n",
    "      \n",
    "        \n",
    "    # limiting the Data by Frist Criteria and Kewords\n",
    "    search= [bool(keywords) == True, bool(Category)==True]\n",
    "    all_keywords = r'\\b(?:{})\\b'.format('|'.join(map(re.escape, keywords)))\n",
    "    cols_return = ['title','content','filename']\n",
    "    \n",
    "    if all(search):\n",
    "        tmp_criteria= [str('category_')+str(name) for name in Category]\n",
    "        tmp_filter =  tmp_filter[(tmp_filter[tmp_criteria]==1).any(axis=1)]\n",
    "        tmp_filter =  tmp_filter[tmp_filter.content_t.str.contains(all_keywords)]\n",
    "        return tmp_filter[cols_return]\n",
    "\n",
    "    else:\n",
    "        tmp_filter =  tmp_filter[tmp_filter.content_t.str.contains(all_keywords)]\n",
    "        return tmp_filter[cols_return]\n",
    "    \n",
    "    \n",
    "            "
   ]
  },
  {
   "cell_type": "code",
   "execution_count": 33,
   "metadata": {},
   "outputs": [
    {
     "data": {
      "text/plain": [
       "False"
      ]
     },
     "execution_count": 33,
     "metadata": {},
     "output_type": "execute_result"
    }
   ],
   "source": [
    "test = None\n",
    "bool(test)"
   ]
  },
  {
   "cell_type": "code",
   "execution_count": 34,
   "metadata": {
    "hidden": true
   },
   "outputs": [
    {
     "ename": "KeyError",
     "evalue": "\"None of [Index(['category_b', 'category_u', 'category_s', 'category_i', 'category_n',\\n       'category_e', 'category_s', 'category_s'],\\n      dtype='object')] are in the [columns]\"",
     "output_type": "error",
     "traceback": [
      "\u001b[1;31m---------------------------------------------------------------------------\u001b[0m",
      "\u001b[1;31mKeyError\u001b[0m                                  Traceback (most recent call last)",
      "\u001b[1;32m<ipython-input-34-72fbf21bfc95>\u001b[0m in \u001b[0;36m<module>\u001b[1;34m\u001b[0m\n\u001b[0;32m      3\u001b[0m \u001b[1;33m\u001b[0m\u001b[0m\n\u001b[0;32m      4\u001b[0m \u001b[1;31m# == searching ==\u001b[0m\u001b[1;33m\u001b[0m\u001b[1;33m\u001b[0m\u001b[1;33m\u001b[0m\u001b[0m\n\u001b[1;32m----> 5\u001b[1;33m \u001b[0msearch_bar\u001b[0m\u001b[1;33m(\u001b[0m\u001b[0mkeywords\u001b[0m\u001b[1;33m,\u001b[0m\u001b[0mcategory\u001b[0m\u001b[1;33m)\u001b[0m\u001b[1;33m\u001b[0m\u001b[1;33m\u001b[0m\u001b[0m\n\u001b[0m",
      "\u001b[1;32m<ipython-input-27-f43b15acab41>\u001b[0m in \u001b[0;36msearch_bar\u001b[1;34m(keywords, Category)\u001b[0m\n\u001b[0;32m     16\u001b[0m     \u001b[1;32mif\u001b[0m \u001b[0mall\u001b[0m\u001b[1;33m(\u001b[0m\u001b[0msearch\u001b[0m\u001b[1;33m)\u001b[0m\u001b[1;33m:\u001b[0m\u001b[1;33m\u001b[0m\u001b[1;33m\u001b[0m\u001b[0m\n\u001b[0;32m     17\u001b[0m         \u001b[0mtmp_criteria\u001b[0m\u001b[1;33m=\u001b[0m \u001b[1;33m[\u001b[0m\u001b[0mstr\u001b[0m\u001b[1;33m(\u001b[0m\u001b[1;34m'category_'\u001b[0m\u001b[1;33m)\u001b[0m\u001b[1;33m+\u001b[0m\u001b[0mstr\u001b[0m\u001b[1;33m(\u001b[0m\u001b[0mname\u001b[0m\u001b[1;33m)\u001b[0m \u001b[1;32mfor\u001b[0m \u001b[0mname\u001b[0m \u001b[1;32min\u001b[0m \u001b[0mCategory\u001b[0m\u001b[1;33m]\u001b[0m\u001b[1;33m\u001b[0m\u001b[1;33m\u001b[0m\u001b[0m\n\u001b[1;32m---> 18\u001b[1;33m         \u001b[0mtmp_filter\u001b[0m \u001b[1;33m=\u001b[0m  \u001b[0mtmp_filter\u001b[0m\u001b[1;33m[\u001b[0m\u001b[1;33m(\u001b[0m\u001b[0mtmp_filter\u001b[0m\u001b[1;33m[\u001b[0m\u001b[0mtmp_criteria\u001b[0m\u001b[1;33m]\u001b[0m\u001b[1;33m==\u001b[0m\u001b[1;36m1\u001b[0m\u001b[1;33m)\u001b[0m\u001b[1;33m.\u001b[0m\u001b[0many\u001b[0m\u001b[1;33m(\u001b[0m\u001b[0maxis\u001b[0m\u001b[1;33m=\u001b[0m\u001b[1;36m1\u001b[0m\u001b[1;33m)\u001b[0m\u001b[1;33m]\u001b[0m\u001b[1;33m\u001b[0m\u001b[1;33m\u001b[0m\u001b[0m\n\u001b[0m\u001b[0;32m     19\u001b[0m         \u001b[0mtmp_filter\u001b[0m \u001b[1;33m=\u001b[0m  \u001b[0mtmp_filter\u001b[0m\u001b[1;33m[\u001b[0m\u001b[0mtmp_filter\u001b[0m\u001b[1;33m.\u001b[0m\u001b[0mcontent_t\u001b[0m\u001b[1;33m.\u001b[0m\u001b[0mstr\u001b[0m\u001b[1;33m.\u001b[0m\u001b[0mcontains\u001b[0m\u001b[1;33m(\u001b[0m\u001b[0mall_keywords\u001b[0m\u001b[1;33m)\u001b[0m\u001b[1;33m]\u001b[0m\u001b[1;33m\u001b[0m\u001b[1;33m\u001b[0m\u001b[0m\n\u001b[0;32m     20\u001b[0m         \u001b[1;32mreturn\u001b[0m \u001b[0mtmp_filter\u001b[0m\u001b[1;33m[\u001b[0m\u001b[0mcols_return\u001b[0m\u001b[1;33m]\u001b[0m\u001b[1;33m\u001b[0m\u001b[1;33m\u001b[0m\u001b[0m\n",
      "\u001b[1;32mc:\\Users\\Marvin Garcia\\Anaconda3\\lib\\site-packages\\pandas\\core\\frame.py\u001b[0m in \u001b[0;36m__getitem__\u001b[1;34m(self, key)\u001b[0m\n\u001b[0;32m   2910\u001b[0m             \u001b[1;32mif\u001b[0m \u001b[0mis_iterator\u001b[0m\u001b[1;33m(\u001b[0m\u001b[0mkey\u001b[0m\u001b[1;33m)\u001b[0m\u001b[1;33m:\u001b[0m\u001b[1;33m\u001b[0m\u001b[1;33m\u001b[0m\u001b[0m\n\u001b[0;32m   2911\u001b[0m                 \u001b[0mkey\u001b[0m \u001b[1;33m=\u001b[0m \u001b[0mlist\u001b[0m\u001b[1;33m(\u001b[0m\u001b[0mkey\u001b[0m\u001b[1;33m)\u001b[0m\u001b[1;33m\u001b[0m\u001b[1;33m\u001b[0m\u001b[0m\n\u001b[1;32m-> 2912\u001b[1;33m             \u001b[0mindexer\u001b[0m \u001b[1;33m=\u001b[0m \u001b[0mself\u001b[0m\u001b[1;33m.\u001b[0m\u001b[0mloc\u001b[0m\u001b[1;33m.\u001b[0m\u001b[0m_get_listlike_indexer\u001b[0m\u001b[1;33m(\u001b[0m\u001b[0mkey\u001b[0m\u001b[1;33m,\u001b[0m \u001b[0maxis\u001b[0m\u001b[1;33m=\u001b[0m\u001b[1;36m1\u001b[0m\u001b[1;33m,\u001b[0m \u001b[0mraise_missing\u001b[0m\u001b[1;33m=\u001b[0m\u001b[1;32mTrue\u001b[0m\u001b[1;33m)\u001b[0m\u001b[1;33m[\u001b[0m\u001b[1;36m1\u001b[0m\u001b[1;33m]\u001b[0m\u001b[1;33m\u001b[0m\u001b[1;33m\u001b[0m\u001b[0m\n\u001b[0m\u001b[0;32m   2913\u001b[0m \u001b[1;33m\u001b[0m\u001b[0m\n\u001b[0;32m   2914\u001b[0m         \u001b[1;31m# take() does not accept boolean indexers\u001b[0m\u001b[1;33m\u001b[0m\u001b[1;33m\u001b[0m\u001b[1;33m\u001b[0m\u001b[0m\n",
      "\u001b[1;32mc:\\Users\\Marvin Garcia\\Anaconda3\\lib\\site-packages\\pandas\\core\\indexing.py\u001b[0m in \u001b[0;36m_get_listlike_indexer\u001b[1;34m(self, key, axis, raise_missing)\u001b[0m\n\u001b[0;32m   1252\u001b[0m             \u001b[0mkeyarr\u001b[0m\u001b[1;33m,\u001b[0m \u001b[0mindexer\u001b[0m\u001b[1;33m,\u001b[0m \u001b[0mnew_indexer\u001b[0m \u001b[1;33m=\u001b[0m \u001b[0max\u001b[0m\u001b[1;33m.\u001b[0m\u001b[0m_reindex_non_unique\u001b[0m\u001b[1;33m(\u001b[0m\u001b[0mkeyarr\u001b[0m\u001b[1;33m)\u001b[0m\u001b[1;33m\u001b[0m\u001b[1;33m\u001b[0m\u001b[0m\n\u001b[0;32m   1253\u001b[0m \u001b[1;33m\u001b[0m\u001b[0m\n\u001b[1;32m-> 1254\u001b[1;33m         \u001b[0mself\u001b[0m\u001b[1;33m.\u001b[0m\u001b[0m_validate_read_indexer\u001b[0m\u001b[1;33m(\u001b[0m\u001b[0mkeyarr\u001b[0m\u001b[1;33m,\u001b[0m \u001b[0mindexer\u001b[0m\u001b[1;33m,\u001b[0m \u001b[0maxis\u001b[0m\u001b[1;33m,\u001b[0m \u001b[0mraise_missing\u001b[0m\u001b[1;33m=\u001b[0m\u001b[0mraise_missing\u001b[0m\u001b[1;33m)\u001b[0m\u001b[1;33m\u001b[0m\u001b[1;33m\u001b[0m\u001b[0m\n\u001b[0m\u001b[0;32m   1255\u001b[0m         \u001b[1;32mreturn\u001b[0m \u001b[0mkeyarr\u001b[0m\u001b[1;33m,\u001b[0m \u001b[0mindexer\u001b[0m\u001b[1;33m\u001b[0m\u001b[1;33m\u001b[0m\u001b[0m\n\u001b[0;32m   1256\u001b[0m \u001b[1;33m\u001b[0m\u001b[0m\n",
      "\u001b[1;32mc:\\Users\\Marvin Garcia\\Anaconda3\\lib\\site-packages\\pandas\\core\\indexing.py\u001b[0m in \u001b[0;36m_validate_read_indexer\u001b[1;34m(self, key, indexer, axis, raise_missing)\u001b[0m\n\u001b[0;32m   1296\u001b[0m             \u001b[1;32mif\u001b[0m \u001b[0mmissing\u001b[0m \u001b[1;33m==\u001b[0m \u001b[0mlen\u001b[0m\u001b[1;33m(\u001b[0m\u001b[0mindexer\u001b[0m\u001b[1;33m)\u001b[0m\u001b[1;33m:\u001b[0m\u001b[1;33m\u001b[0m\u001b[1;33m\u001b[0m\u001b[0m\n\u001b[0;32m   1297\u001b[0m                 \u001b[0maxis_name\u001b[0m \u001b[1;33m=\u001b[0m \u001b[0mself\u001b[0m\u001b[1;33m.\u001b[0m\u001b[0mobj\u001b[0m\u001b[1;33m.\u001b[0m\u001b[0m_get_axis_name\u001b[0m\u001b[1;33m(\u001b[0m\u001b[0maxis\u001b[0m\u001b[1;33m)\u001b[0m\u001b[1;33m\u001b[0m\u001b[1;33m\u001b[0m\u001b[0m\n\u001b[1;32m-> 1298\u001b[1;33m                 \u001b[1;32mraise\u001b[0m \u001b[0mKeyError\u001b[0m\u001b[1;33m(\u001b[0m\u001b[1;34mf\"None of [{key}] are in the [{axis_name}]\"\u001b[0m\u001b[1;33m)\u001b[0m\u001b[1;33m\u001b[0m\u001b[1;33m\u001b[0m\u001b[0m\n\u001b[0m\u001b[0;32m   1299\u001b[0m \u001b[1;33m\u001b[0m\u001b[0m\n\u001b[0;32m   1300\u001b[0m             \u001b[1;31m# We (temporarily) allow for some missing keys with .loc, except in\u001b[0m\u001b[1;33m\u001b[0m\u001b[1;33m\u001b[0m\u001b[1;33m\u001b[0m\u001b[0m\n",
      "\u001b[1;31mKeyError\u001b[0m: \"None of [Index(['category_b', 'category_u', 'category_s', 'category_i', 'category_n',\\n       'category_e', 'category_s', 'category_s'],\\n      dtype='object')] are in the [columns]\""
     ]
    }
   ],
   "source": [
    "keywords = ['google']\n",
    "category = 'business'\n",
    "\n",
    "# == searching ==\n",
    "search_bar(keywords,category)"
   ]
  },
  {
   "cell_type": "markdown",
   "metadata": {
    "heading_collapsed": true,
    "hidden": true
   },
   "source": [
    "######  Searching by words frequency"
   ]
  },
  {
   "cell_type": "code",
   "execution_count": 19,
   "metadata": {
    "hidden": true
   },
   "outputs": [],
   "source": [
    "# Importing Stopwords \n",
    "Stop_words = set(nltk.corpus.stopwords.words('english'))\n",
    "min_words = 5\n",
    "max_words = 300\n",
    "\n",
    "# def tokenizer way \n",
    "def tokenizer_ (sentence:str,stopwords=Stop_words,lemmatize=True,min_words:int = min_words ,max_words:int = max_words):\n",
    "    \"\"\" Lemmatize, tokenize, and remove stop words\"\"\"\n",
    "    if lemmatize:\n",
    "        # Initiate lemmatization\n",
    "        stemmer = nltk.stem.WordNetLemmatizer()\n",
    "        \n",
    "        # Initiate Tokenizer\n",
    "        tokens = [stemmer.lemmatize(word) for word in nltk.tokenize.word_tokenize(sentence)]\n",
    "    \n",
    "    else:\n",
    "        tokens = [ word for word in nltk.tokenize.word_tokenize(sentence)]\n",
    "    token = [word for word in tokens if (len(word)>min_words) and (len(word)<max_words)and (word not in stopwords)]\n",
    "    \n",
    "    return token"
   ]
  },
  {
   "cell_type": "code",
   "execution_count": 28,
   "metadata": {
    "hidden": true
   },
   "outputs": [
    {
     "data": {
      "text/plain": [
       "(2225, 22668)"
      ]
     },
     "execution_count": 28,
     "metadata": {},
     "output_type": "execute_result"
    }
   ],
   "source": [
    "# Preprocessing corpus\n",
    "token_stop = tokenizer_(' '.join(Stop_words), lemmatize=False)\n",
    "\n",
    "Vec = (sklearn.feature_extraction.text.\n",
    "       TfidfVectorizer(stop_words = Stop_words,\n",
    "                       tokenizer=tokenizer_))\n",
    "\n",
    "Vec_matrix = Vec.fit_transform(database['content'].values)\n",
    "Vec_matrix.shape"
   ]
  },
  {
   "cell_type": "code",
   "execution_count": 40,
   "metadata": {
    "hidden": true
   },
   "outputs": [],
   "source": [
    "def search_bar_2 (sentence:str)-> pandas.DataFrame:\n",
    "    \"\"\"Return the data base sentences with cosine similarity\"\"\"\n",
    "    \n",
    "    # Transform sentences\n",
    "    tokens = [str(token) for token in tokenizer_(sentence)]\n",
    "    vector = Vec.transform(tokens)\n",
    "    \n",
    "    # Matric with similarity between query and databse\n",
    "    tmp_mat = sklearn.metrics.pairwise.cosine_similarity(vector,Vec_matrix)\n",
    "    \n",
    "    # Best cosine distance for each token \n",
    "    best_index = extract_best_indices(tmp_mat, topk=3)\n",
    "    \n",
    "    return database.iloc[best_index, 3]"
   ]
  },
  {
   "cell_type": "code",
   "execution_count": 41,
   "metadata": {
    "hidden": true
   },
   "outputs": [
    {
     "name": "stdout",
     "output_type": "stream",
     "text": [
      " Oil giant BP has announced a 26% rise in annual profits to $16.2bn (£8.7bn) on the back of record oil prices.  Last week, rival Shell reported an annual profit of $17.5bn - a record profit for a UK-listed company. BP added that it was increasing its fourth-quarter dividend by 26% to 8.5 cents, and that it would continue with share buybacks. BP chief executive Lord Browne said the results were strong \"both operationally and financially.\"  The company is earning about $1.8m an hour.  Despite the record annual profits figure, BP's performance was below the expectations of some City analysts. However, BP's share price rose 4p or nearly 1% in morning trading to 548p. Its profit rise for the year included profits of $3.65bn (£1.97bn) for the final three months of 2004 - up from $2.89bn a year ago but below its third quarter.  Speaking on the BBC's Today programme on Tuesday, Lord Browne said the profits were not solely down to the high oil price alone.  \"The profits are up more than the price of oil is up,\" he said. Lord Browne pointed out that BP was reaping the benefits of its investment in oil exploration. \"We have spent many years buying (assets) when the price is low,\" he said. The company has made new discoveries in Egypt, the Gulf of Mexico and Angola.  However, Lord Browne rejected calls for a windfall tax on his company's huge profits, saying that in the North Sea it paid progressively more tax, the more profits it made. Lord Browne believes oil prices will remain quite high. Currently above $40 a barrel, he said: \"The price of oil will be well supported above $30 a barrel for the medium term.\" BP put production for the year at 3.997 billion barrels of oil, up 10% on 2003, but slightly lower than the four billion barrels it had initially aimed for. \n",
      "\n",
      "\n",
      " ----------------------- \n",
      "\n",
      " ABN Amro, the Netherlands' largest bank, is to cut 2,850 jobs as a result of falling profits.  The cuts - amounting to 3% of the bank's workforce - will result in a one-off charge of 790m euros ($1.1bn). About 1,100 jobs will go in investment banking while 1,200 and 550 will go in IT and human resources respectively. ABN Amro is the third large European bank to announce cutbacks in the past month following Deutsche Bank and Credit Suisse Group.  Its profitability has been hit by a fall in mortgage lending in the United States - the bank's largest single market - following recent interest rate rises. ABN Amro's operations in the Netherlands and the United Kingdom will be hardest hit. Jobs will also be lost in the US - which accounted for 46% of profit in the first half of 2004 - and across its operations in the Americas and Asia-Pacific regions.  The restructuring is designed to improve efficiency by reducing administrative costs and increasing focus on client service. The bank said it was on course for a 10% rise in net income this year but operating profits are set to fall because of a fall in US revenues. ABN Amro currently has more than 100,000 staff. \"To get any profit growth in the coming years, they will have to lower costs, so shedding jobs makes total sense,\" Ivo Geijsen, an analyst with Bank Oyens & Van Eeghen, told Bloomberg. Europe's leading banks seem set for a period of retrenchment. Deutsche Bank said earlier this month it would reduce its German workforce by 1,920 while as many as 300 jobs will be lost at Credit Suisse First Boston. \n",
      "\n",
      "\n",
      " ----------------------- \n",
      "\n",
      " Shares in Multiplex Group, which is building the new Wembley stadium, fell as much as 19% after it said it would not make any money on the project.  The Australian firm said it would only break even on the 1.2bn Australian dollars (£458m; $874m) rebuild, after a rise in costs on the work. Any profits would depend on the outcome of legal cases resulting from a change in steel contractor, it added. It cut A$68m from profit targets for Wembley and another UK project.  Investors were shaken by the news and the firm's shares fell to a four month low of A$4.50, before recovering to close 16% down at A$4.67. The decline came despite Multiplex reporting an 11% rise in pre-tax profits to A$67.7m for 2004 and reaffirming its 2005 profit forecasts. Increased costs at Wembley and a separate development in London's Docklands saw Multiplex's construction division report profits of A$35.1m.  The firm said the result was below expectations but stressed that the majority of its UK projects - which also include the White City redevelopment scheme in west London - were performing strongly.  To recoup any profit from Wembley, where the firm changed its steel contractor due to a legal dispute, Multiplex will have to win legal claims against subcontractors. These claims could take up to two years to resolve. \"Multiplex believes its claim are sound and ultimately will exceed the level needed to support the break even position,\" it said. \"It is expected that profits will be possible in future periods as the claims are finalised.\" Wembley Stadium is to due to be completed in January and will officially open for the 2006 FA Cup Final. Analysts expressed concern at the unexpected paring back in profit. \"Such a big writeback on the Wembley project in such a short period has impacted on management credibility,\" Simon Wheatley, from Goldman Sachs, told Reuters. \n",
      "\n",
      "\n",
      " ----------------------- \n",
      "\n"
     ]
    }
   ],
   "source": [
    "sentence = 'the profits are increasing'\n",
    "result = search_bar_2 (sentence)\n",
    "\n",
    "for res in result:\n",
    "    print(res)\n",
    "    print()\n",
    "    print(\"\\n ----------------------- \\n\")"
   ]
  },
  {
   "cell_type": "code",
   "execution_count": null,
   "metadata": {
    "hidden": true
   },
   "outputs": [],
   "source": []
  }
 ],
 "metadata": {
  "kernelspec": {
   "display_name": "Python 3",
   "language": "python",
   "name": "python3"
  },
  "language_info": {
   "codemirror_mode": {
    "name": "ipython",
    "version": 3
   },
   "file_extension": ".py",
   "mimetype": "text/x-python",
   "name": "python",
   "nbconvert_exporter": "python",
   "pygments_lexer": "ipython3",
   "version": "3.7.4"
  },
  "varInspector": {
   "cols": {
    "lenName": 16,
    "lenType": 16,
    "lenVar": 40
   },
   "kernels_config": {
    "python": {
     "delete_cmd_postfix": "",
     "delete_cmd_prefix": "del ",
     "library": "var_list.py",
     "varRefreshCmd": "print(var_dic_list())"
    },
    "r": {
     "delete_cmd_postfix": ") ",
     "delete_cmd_prefix": "rm(",
     "library": "var_list.r",
     "varRefreshCmd": "cat(var_dic_list()) "
    }
   },
   "types_to_exclude": [
    "module",
    "function",
    "builtin_function_or_method",
    "instance",
    "_Feature"
   ],
   "window_display": false
  },
  "vscode": {
   "interpreter": {
    "hash": "94c0bbf1e6124af98f3bbc89295d41a4a7131989aadb19584809c4d5921f7297"
   }
  }
 },
 "nbformat": 4,
 "nbformat_minor": 2
}
